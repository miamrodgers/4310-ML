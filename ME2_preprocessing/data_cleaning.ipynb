{
 "cells": [
  {
   "cell_type": "markdown",
   "metadata": {},
   "source": [
    "# ME2\n",
    "\n",
    "\n",
    "## Preprocessing Data: Data Clearning"
   ]
  },
  {
   "cell_type": "markdown",
   "metadata": {},
   "source": [
    "#### Write full names of your team members who worked together.\n",
    "\n",
    "\n",
    "\n",
    "\n",
    "#### Submission:\n",
    "\n",
    "- Push the completed code to your Github repository.\n",
    "\n",
    "- Check submission details in Canvas. "
   ]
  },
  {
   "cell_type": "markdown",
   "metadata": {},
   "source": [
    "### Handing missing data and invalid data\n",
    "\n",
    "Handling missing data is important as many machine learning algorithms do not support data with missing values. Our main objectives: \n",
    "\n",
    "- How to marking invalid or corrupt values as missing in a dataset.\n",
    "\n",
    "- How to remove rows with missing data from a dataset.\n",
    "\n",
    "- How to impute missing values with mean values in a dataset.\n",
    "\n",
    "#### Two examples below will show the data cleaning process. \n",
    "\n",
    "- Learn from the examples by going through each cell.\n",
    "\n",
    "- Apply the learn tools to conduct preprocessing a new dataset. \n",
    "\n",
    "\n",
    "See the more details:\n",
    "\n",
    "- Working with mssing data, in Pandas: \n",
    "\n",
    "https://pandas.pydata.org/pandas-docs/stable/user_guide/missing_data.html\n",
    "\n",
    "- How to inteporate the data, in Pandas: \n",
    "\n",
    "https://pandas.pydata.org/pandas-docs/stable/reference/api/pandas.Series.interpolate.html\n",
    "\n",
    "- Imputation of missing values, in Scikit-learn: \n",
    "\n",
    "https://scikit-learn.org/stable/modules/impute.html#impute\n",
    "\n",
    "\n",
    "*** Notes: It is import to read the Pandas and Scikit-learn libraries for their functions and examples before you use them.\n",
    "\n"
   ]
  },
  {
   "cell_type": "markdown",
   "metadata": {},
   "source": [
    "### A simple example: filling in missing data using Pandas"
   ]
  },
  {
   "cell_type": "code",
   "execution_count": 129,
   "metadata": {},
   "outputs": [],
   "source": [
    "# Library import\n",
    "import numpy as np\n",
    "import pandas as pd\n",
    "from sklearn import preprocessing"
   ]
  },
  {
   "cell_type": "code",
   "execution_count": 130,
   "metadata": {},
   "outputs": [
    {
     "name": "stdout",
     "output_type": "stream",
     "text": [
      "         time    user       video  playback position paused  volume\n",
      "0  1469974424  cheryl  intro.html                  5  False    10.0\n",
      "1  1469974454  cheryl  intro.html                  6    NaN     NaN\n",
      "2  1469974544  cheryl  intro.html                  9    NaN     NaN\n",
      "3  1469974574  cheryl  intro.html                 10    NaN     NaN\n",
      "4  1469977514     bob  intro.html                  1    NaN     NaN\n",
      "          time    user       video  playback position paused  volume\n",
      "28  1469977664     bob  intro.html                  1    NaN     NaN\n",
      "29  1469974634  cheryl  intro.html                 12    NaN     NaN\n",
      "30  1469974664  cheryl  intro.html                 13    NaN     NaN\n",
      "31  1469977694     bob  intro.html                  1    NaN     NaN\n",
      "32  1469977724     bob  intro.html                  1    NaN     NaN\n"
     ]
    }
   ],
   "source": [
    "# Load the data\n",
    "# data file is located in folder data\n",
    "df = pd.read_csv('./data/log.csv')\n",
    "print(df.head())\n",
    "print(df.tail())"
   ]
  },
  {
   "cell_type": "code",
   "execution_count": 131,
   "metadata": {},
   "outputs": [
    {
     "name": "stdout",
     "output_type": "stream",
     "text": [
      "              user          video  playback position paused  volume\n",
      "time                                                               \n",
      "1469974424  cheryl     intro.html                  5  False    10.0\n",
      "1469974424     sue  advanced.html                 23  False    10.0\n",
      "1469974454  cheryl     intro.html                  6    NaN     NaN\n",
      "1469974454     sue  advanced.html                 24    NaN     NaN\n",
      "1469974484  cheryl     intro.html                  7    NaN     NaN\n"
     ]
    }
   ],
   "source": [
    "# you can make index\n",
    "df = df.set_index('time')\n",
    "df = df.sort_index()\n",
    "print(df.head())"
   ]
  },
  {
   "cell_type": "code",
   "execution_count": 132,
   "metadata": {},
   "outputs": [
    {
     "name": "stdout",
     "output_type": "stream",
     "text": [
      "                           video  playback position paused  volume\n",
      "time       user                                                   \n",
      "1469974424 cheryl     intro.html                  5  False    10.0\n",
      "           sue     advanced.html                 23  False    10.0\n",
      "1469974454 cheryl     intro.html                  6    NaN     NaN\n",
      "           sue     advanced.html                 24    NaN     NaN\n",
      "1469974484 cheryl     intro.html                  7    NaN     NaN\n"
     ]
    }
   ],
   "source": [
    "# reset index\n",
    "df = df.reset_index()\n",
    "df = df.set_index(['time', 'user'])\n",
    "print(df.head())"
   ]
  },
  {
   "cell_type": "code",
   "execution_count": 133,
   "metadata": {},
   "outputs": [
    {
     "name": "stdout",
     "output_type": "stream",
     "text": [
      "                           video  playback position  paused  volume\n",
      "time       user                                                    \n",
      "1469974424 cheryl     intro.html                  5   False    10.0\n",
      "           sue     advanced.html                 23   False    10.0\n",
      "1469974454 cheryl     intro.html                  6   False    10.0\n",
      "           sue     advanced.html                 24   False    10.0\n",
      "1469974484 cheryl     intro.html                  7   False    10.0\n",
      "                      video  playback position  paused  volume\n",
      "time       user                                               \n",
      "1469977604 bob   intro.html                  1    True    10.0\n",
      "1469977634 bob   intro.html                  1    True    10.0\n",
      "1469977664 bob   intro.html                  1    True    10.0\n",
      "1469977694 bob   intro.html                  1    True    10.0\n",
      "1469977724 bob   intro.html                  1    True    10.0\n"
     ]
    }
   ],
   "source": [
    "# replace Nan with default value (previos value is used to fill in)\n",
    "df = df.fillna(method='ffill')\n",
    "print(df.head())\n",
    "print(df.tail())"
   ]
  },
  {
   "cell_type": "markdown",
   "metadata": {},
   "source": [
    "## Part 0\n",
    "### Data Clearning Exercise"
   ]
  },
  {
   "cell_type": "markdown",
   "metadata": {},
   "source": [
    "\n",
    "1. Pima Indians Diabetes Dataset: where we look at a dataset that has known missing values.\n",
    "2. Mark Missing Values: where we learn how to mark missing values in a dataset.\n",
    "3. Missing Values Causes Problems: where we see how a machine learning algorithm can fail when it contains missing values.\n",
    "4. Remove Rows With Missing Values: where we see how to remove rows that contain missing values.\n",
    "5. Impute Missing Values: where we replace missing values with sensible values.\n",
    "6. Algorithms that Support Missing Values: where we learn about algorithms that support missing values."
   ]
  },
  {
   "cell_type": "markdown",
   "metadata": {},
   "source": [
    "### 1. Dataset\n",
    "#### Working with Pima indians diabetes dataset\n",
    "\n",
    "\n",
    "\n",
    "#### In the folder of \"data\", you can find the follwoing files from folder data:\n",
    "\n",
    "- pima-indians-diabetes.csv\n",
    "\n",
    "- pima-indians-diabetes.names\n",
    "\n",
    "Both can be opend in Jupyter notebook\n",
    "\n",
    "#### Open the data file and look at the data. Also read readme.txt for data descrption. "
   ]
  },
  {
   "cell_type": "code",
   "execution_count": null,
   "metadata": {},
   "outputs": [],
   "source": []
  },
  {
   "cell_type": "markdown",
   "metadata": {},
   "source": [
    "The Pima Indians Diabetes Dataset involves predicting the onset of diabetes within 5 years in Pima Indians given medical details.\n",
    "\n",
    "It is a binary (2-class) classification problem. The number of observations for each class is not balanced. There are 768 observations with 8 input variables and 1 output variable. The variable names are as follows:\n",
    "\n",
    "0. Number of times pregnant.\n",
    "1. Plasma glucose concentration a 2 hours in an oral glucose tolerance test.\n",
    "2. Diastolic blood pressure (mm Hg).\n",
    "3. Triceps skinfold thickness (mm).\n",
    "4. 2-Hour serum insulin (mu U/ml).\n",
    "5. Body mass index (weight in kg/(height in m)^2).\n",
    "6. Diabetes pedigree function.\n",
    "7. Age (years).\n",
    "8. Class variable (0 or 1).\n",
    "\n",
    "The baseline performance of predicting the most prevalent class is a classification accuracy of approximately 65%. Top results achieve a classification accuracy of approximately 77%."
   ]
  },
  {
   "attachments": {
    "image.png": {
     "image/png": "[encoded data removed]"
    }
   },
   "cell_type": "markdown",
   "metadata": {},
   "source": [
    "A sample of the first 5 rows is listed below.\n",
    "\n",
    "![image.png](attachment:image.png)\n",
    "\n",
    "This dataset is known to have missing values. Specifically, there are missing observations for some columns that are marked as a zero value.\n",
    "\n",
    "We can corroborate this by the definition of those columns and the domain knowledge that a zero value is invalid for those measures, e.g. a zero for body mass index or blood pressure is invalid."
   ]
  },
  {
   "cell_type": "markdown",
   "metadata": {},
   "source": [
    "### 2. Mark Missing Values\n",
    "\n",
    "we will look at how we can identify and mark values as missing.\n",
    "\n",
    "We can use plots and summary statistics to help identify missing or corrupt data.\n",
    "\n",
    "We can load the dataset as a Pandas DataFrame and print summary statistics on each attribute."
   ]
  },
  {
   "cell_type": "code",
   "execution_count": 134,
   "metadata": {},
   "outputs": [
    {
     "name": "stdout",
     "output_type": "stream",
     "text": [
      "                0           1           2           3           4           5  \\\n",
      "count  768.000000  768.000000  768.000000  768.000000  768.000000  768.000000   \n",
      "mean     3.845052  120.894531   69.105469   20.536458   79.799479   31.992578   \n",
      "std      3.369578   31.972618   19.355807   15.952218  115.244002    7.884160   \n",
      "min      0.000000    0.000000    0.000000    0.000000    0.000000    0.000000   \n",
      "25%      1.000000   99.000000   62.000000    0.000000    0.000000   27.300000   \n",
      "50%      3.000000  117.000000   72.000000   23.000000   30.500000   32.000000   \n",
      "75%      6.000000  140.250000   80.000000   32.000000  127.250000   36.600000   \n",
      "max     17.000000  199.000000  122.000000   99.000000  846.000000   67.100000   \n",
      "\n",
      "                6           7           8  \n",
      "count  768.000000  768.000000  768.000000  \n",
      "mean     0.471876   33.240885    0.348958  \n",
      "std      0.331329   11.760232    0.476951  \n",
      "min      0.078000   21.000000    0.000000  \n",
      "25%      0.243750   24.000000    0.000000  \n",
      "50%      0.372500   29.000000    0.000000  \n",
      "75%      0.626250   41.000000    1.000000  \n",
      "max      2.420000   81.000000    1.000000  \n"
     ]
    }
   ],
   "source": [
    "df = pd.read_csv('./data/pima-indians-diabetes.csv', header=None)\n",
    "\n",
    "print(df.describe())\n",
    "            "
   ]
  },
  {
   "cell_type": "markdown",
   "metadata": {},
   "source": [
    "We can see that there are columns that have a minimum value of zero (0). On some columns, a value of zero does not make sense and indicates an invalid or missing value.\n",
    "\n",
    "Specifically, the following columns have an invalid zero minimum value:\n",
    "\n",
    "1: Plasma glucose concentration\n",
    "\n",
    "2: Diastolic blood pressure\n",
    "\n",
    "3: Triceps skinfold thickness\n",
    "\n",
    "4: 2-Hour serum insulin\n",
    "\n",
    "5: Body mass index"
   ]
  },
  {
   "cell_type": "code",
   "execution_count": 135,
   "metadata": {},
   "outputs": [
    {
     "name": "stdout",
     "output_type": "stream",
     "text": [
      "     0    1   2   3    4     5      6   7  8\n",
      "0    6  148  72  35    0  33.6  0.627  50  1\n",
      "1    1   85  66  29    0  26.6  0.351  31  0\n",
      "2    8  183  64   0    0  23.3  0.672  32  1\n",
      "3    1   89  66  23   94  28.1  0.167  21  0\n",
      "4    0  137  40  35  168  43.1  2.288  33  1\n",
      "5    5  116  74   0    0  25.6  0.201  30  0\n",
      "6    3   78  50  32   88  31.0  0.248  26  1\n",
      "7   10  115   0   0    0  35.3  0.134  29  0\n",
      "8    2  197  70  45  543  30.5  0.158  53  1\n",
      "9    8  125  96   0    0   0.0  0.232  54  1\n",
      "10   4  110  92   0    0  37.6  0.191  30  0\n",
      "11  10  168  74   0    0  38.0  0.537  34  1\n",
      "12  10  139  80   0    0  27.1  1.441  57  0\n",
      "13   1  189  60  23  846  30.1  0.398  59  1\n",
      "14   5  166  72  19  175  25.8  0.587  51  1\n",
      "15   7  100   0   0    0  30.0  0.484  32  1\n",
      "16   0  118  84  47  230  45.8  0.551  31  1\n",
      "17   7  107  74   0    0  29.6  0.254  31  1\n",
      "18   1  103  30  38   83  43.3  0.183  33  0\n",
      "19   1  115  70  30   96  34.6  0.529  32  1\n"
     ]
    }
   ],
   "source": [
    "print(df.head(20))"
   ]
  },
  {
   "cell_type": "markdown",
   "metadata": {},
   "source": [
    "We can get a count of the number of missing values on each of these columns. We can do this my marking all of the values in the subset of the DataFrame we are interested in that have zero values as True. We can then count the number of true values in each column.\n",
    "\n",
    "We can do this my marking all of the values in the subset of the DataFrame we are interested in that have zero values as True. We can then count the number of true values in each column."
   ]
  },
  {
   "cell_type": "code",
   "execution_count": 136,
   "metadata": {},
   "outputs": [
    {
     "name": "stdout",
     "output_type": "stream",
     "text": [
      "1      5\n",
      "2     35\n",
      "3    227\n",
      "4    374\n",
      "5     11\n",
      "dtype: int64\n"
     ]
    }
   ],
   "source": [
    "print((df[[1,2,3,4,5]] == 0).sum())"
   ]
  },
  {
   "cell_type": "markdown",
   "metadata": {},
   "source": [
    "We can see that columns 1,2 and 5 have just a few zero values, whereas columns 3 and 4 show a lot more, nearly half of the rows. This highlights that different “missing value” strategies may be needed for different columns, e.g. to ensure that there are still a sufficient number of records left to train a predictive model.\n",
    "\n",
    "In Python, specifically Pandas, NumPy and Scikit-Learn, we mark missing values as NaN. Values with a NaN value are ignored from operations like sum, count, etc.\n",
    "\n",
    "We can mark values as NaN easily with the Pandas DataFrame by using the replace() function on a subset of the columns we are interested in.\n",
    "\n",
    "After we have marked the missing values, we can use the isnull() function to mark all of the NaN values in the dataset as True and get a count of the missing values for each column."
   ]
  },
  {
   "cell_type": "code",
   "execution_count": 137,
   "metadata": {},
   "outputs": [
    {
     "name": "stdout",
     "output_type": "stream",
     "text": [
      "0      0\n",
      "1      5\n",
      "2     35\n",
      "3    227\n",
      "4    374\n",
      "5     11\n",
      "6      0\n",
      "7      0\n",
      "8      0\n",
      "dtype: int64\n"
     ]
    }
   ],
   "source": [
    "# mark zero values as missing or NaN\n",
    "df[[1,2,3,4,5]] = df[[1,2,3,4,5]].replace(0, np.NaN)\n",
    "\n",
    "# count the number of NaN values in each column\n",
    "print(df.isnull().sum())"
   ]
  },
  {
   "cell_type": "markdown",
   "metadata": {},
   "source": [
    "Running the example prints the number of missing values in each column. We can see that the columns 1:5 have the same number of missing values as zero values identified above. This is a sign that we have marked the identified missing values correctly.\n",
    "\n",
    "We can see that the columns 1 to 5 have the same number of missing values as zero values identified above. This is a sign that we have marked the identified missing values correctly."
   ]
  },
  {
   "cell_type": "code",
   "execution_count": 138,
   "metadata": {},
   "outputs": [
    {
     "name": "stdout",
     "output_type": "stream",
     "text": [
      "     0      1     2     3      4     5      6   7  8\n",
      "0    6  148.0  72.0  35.0    NaN  33.6  0.627  50  1\n",
      "1    1   85.0  66.0  29.0    NaN  26.6  0.351  31  0\n",
      "2    8  183.0  64.0   NaN    NaN  23.3  0.672  32  1\n",
      "3    1   89.0  66.0  23.0   94.0  28.1  0.167  21  0\n",
      "4    0  137.0  40.0  35.0  168.0  43.1  2.288  33  1\n",
      "5    5  116.0  74.0   NaN    NaN  25.6  0.201  30  0\n",
      "6    3   78.0  50.0  32.0   88.0  31.0  0.248  26  1\n",
      "7   10  115.0   NaN   NaN    NaN  35.3  0.134  29  0\n",
      "8    2  197.0  70.0  45.0  543.0  30.5  0.158  53  1\n",
      "9    8  125.0  96.0   NaN    NaN   NaN  0.232  54  1\n",
      "10   4  110.0  92.0   NaN    NaN  37.6  0.191  30  0\n",
      "11  10  168.0  74.0   NaN    NaN  38.0  0.537  34  1\n",
      "12  10  139.0  80.0   NaN    NaN  27.1  1.441  57  0\n",
      "13   1  189.0  60.0  23.0  846.0  30.1  0.398  59  1\n",
      "14   5  166.0  72.0  19.0  175.0  25.8  0.587  51  1\n",
      "15   7  100.0   NaN   NaN    NaN  30.0  0.484  32  1\n",
      "16   0  118.0  84.0  47.0  230.0  45.8  0.551  31  1\n",
      "17   7  107.0  74.0   NaN    NaN  29.6  0.254  31  1\n",
      "18   1  103.0  30.0  38.0   83.0  43.3  0.183  33  0\n",
      "19   1  115.0  70.0  30.0   96.0  34.6  0.529  32  1\n"
     ]
    }
   ],
   "source": [
    "print(df.head(20))"
   ]
  },
  {
   "cell_type": "markdown",
   "metadata": {},
   "source": [
    "Running the example, we can clearly see NaN values in the columns 2, 3, 4 and 5. There are only 5 missing values in column 1, so it is not surprising we did not see an example in the first 20 rows.\n",
    "\n",
    "It is clear from the raw data that marking the missing values had the intended effect."
   ]
  },
  {
   "cell_type": "markdown",
   "metadata": {},
   "source": [
    "### 3. Missing Values Causes Problems\n",
    "\n",
    "Before we look at handling missing values, let’s first demonstrate that having missing values in a dataset can cause problems.\n",
    "\n",
    "Having missing values in a dataset can cause errors with some machine learning algorithms. We will try to evaluate a the Linear Discriminant Analysis (LDA) algorithm on the dataset with missing values. This is an algorithm that does not work when there are missing values in the dataset.\n",
    "\n",
    "The below example marks the missing values in the dataset, as we did in the previous sectio (changing 0 to Nan), then attempts to evaluate LDA using 3-fold cross validation and print the mean accuracy.\n",
    "\n",
    "*** Notes: The LDA algorithm and 3-fold cross validation will be discussed in class later. "
   ]
  },
  {
   "cell_type": "code",
   "execution_count": 139,
   "metadata": {},
   "outputs": [
    {
     "name": "stdout",
     "output_type": "stream",
     "text": [
      "nan\n"
     ]
    },
    {
     "name": "stderr",
     "output_type": "stream",
     "text": [
      "/Users/miarodgers/opt/anaconda3/lib/python3.8/site-packages/sklearn/model_selection/_validation.py:548: FitFailedWarning: Estimator fit failed. The score on this train-test partition for these parameters will be set to nan. Details: \n",
      "Traceback (most recent call last):\n",
      "  File \"/Users/miarodgers/opt/anaconda3/lib/python3.8/site-packages/sklearn/model_selection/_validation.py\", line 531, in _fit_and_score\n",
      "    estimator.fit(X_train, y_train, **fit_params)\n",
      "  File \"/Users/miarodgers/opt/anaconda3/lib/python3.8/site-packages/sklearn/discriminant_analysis.py\", line 424, in fit\n",
      "    X, y = self._validate_data(X, y, ensure_min_samples=2, estimator=self,\n",
      "  File \"/Users/miarodgers/opt/anaconda3/lib/python3.8/site-packages/sklearn/base.py\", line 432, in _validate_data\n",
      "    X, y = check_X_y(X, y, **check_params)\n",
      "  File \"/Users/miarodgers/opt/anaconda3/lib/python3.8/site-packages/sklearn/utils/validation.py\", line 72, in inner_f\n",
      "    return f(**kwargs)\n",
      "  File \"/Users/miarodgers/opt/anaconda3/lib/python3.8/site-packages/sklearn/utils/validation.py\", line 795, in check_X_y\n",
      "    X = check_array(X, accept_sparse=accept_sparse,\n",
      "  File \"/Users/miarodgers/opt/anaconda3/lib/python3.8/site-packages/sklearn/utils/validation.py\", line 72, in inner_f\n",
      "    return f(**kwargs)\n",
      "  File \"/Users/miarodgers/opt/anaconda3/lib/python3.8/site-packages/sklearn/utils/validation.py\", line 644, in check_array\n",
      "    _assert_all_finite(array,\n",
      "  File \"/Users/miarodgers/opt/anaconda3/lib/python3.8/site-packages/sklearn/utils/validation.py\", line 96, in _assert_all_finite\n",
      "    raise ValueError(\n",
      "ValueError: Input contains NaN, infinity or a value too large for dtype('float64').\n",
      "\n",
      "  warnings.warn(\"Estimator fit failed. The score on this train-test\"\n",
      "/Users/miarodgers/opt/anaconda3/lib/python3.8/site-packages/sklearn/model_selection/_validation.py:548: FitFailedWarning: Estimator fit failed. The score on this train-test partition for these parameters will be set to nan. Details: \n",
      "Traceback (most recent call last):\n",
      "  File \"/Users/miarodgers/opt/anaconda3/lib/python3.8/site-packages/sklearn/model_selection/_validation.py\", line 531, in _fit_and_score\n",
      "    estimator.fit(X_train, y_train, **fit_params)\n",
      "  File \"/Users/miarodgers/opt/anaconda3/lib/python3.8/site-packages/sklearn/discriminant_analysis.py\", line 424, in fit\n",
      "    X, y = self._validate_data(X, y, ensure_min_samples=2, estimator=self,\n",
      "  File \"/Users/miarodgers/opt/anaconda3/lib/python3.8/site-packages/sklearn/base.py\", line 432, in _validate_data\n",
      "    X, y = check_X_y(X, y, **check_params)\n",
      "  File \"/Users/miarodgers/opt/anaconda3/lib/python3.8/site-packages/sklearn/utils/validation.py\", line 72, in inner_f\n",
      "    return f(**kwargs)\n",
      "  File \"/Users/miarodgers/opt/anaconda3/lib/python3.8/site-packages/sklearn/utils/validation.py\", line 795, in check_X_y\n",
      "    X = check_array(X, accept_sparse=accept_sparse,\n",
      "  File \"/Users/miarodgers/opt/anaconda3/lib/python3.8/site-packages/sklearn/utils/validation.py\", line 72, in inner_f\n",
      "    return f(**kwargs)\n",
      "  File \"/Users/miarodgers/opt/anaconda3/lib/python3.8/site-packages/sklearn/utils/validation.py\", line 644, in check_array\n",
      "    _assert_all_finite(array,\n",
      "  File \"/Users/miarodgers/opt/anaconda3/lib/python3.8/site-packages/sklearn/utils/validation.py\", line 96, in _assert_all_finite\n",
      "    raise ValueError(\n",
      "ValueError: Input contains NaN, infinity or a value too large for dtype('float64').\n",
      "\n",
      "  warnings.warn(\"Estimator fit failed. The score on this train-test\"\n",
      "/Users/miarodgers/opt/anaconda3/lib/python3.8/site-packages/sklearn/model_selection/_validation.py:548: FitFailedWarning: Estimator fit failed. The score on this train-test partition for these parameters will be set to nan. Details: \n",
      "Traceback (most recent call last):\n",
      "  File \"/Users/miarodgers/opt/anaconda3/lib/python3.8/site-packages/sklearn/model_selection/_validation.py\", line 531, in _fit_and_score\n",
      "    estimator.fit(X_train, y_train, **fit_params)\n",
      "  File \"/Users/miarodgers/opt/anaconda3/lib/python3.8/site-packages/sklearn/discriminant_analysis.py\", line 424, in fit\n",
      "    X, y = self._validate_data(X, y, ensure_min_samples=2, estimator=self,\n",
      "  File \"/Users/miarodgers/opt/anaconda3/lib/python3.8/site-packages/sklearn/base.py\", line 432, in _validate_data\n",
      "    X, y = check_X_y(X, y, **check_params)\n",
      "  File \"/Users/miarodgers/opt/anaconda3/lib/python3.8/site-packages/sklearn/utils/validation.py\", line 72, in inner_f\n",
      "    return f(**kwargs)\n",
      "  File \"/Users/miarodgers/opt/anaconda3/lib/python3.8/site-packages/sklearn/utils/validation.py\", line 795, in check_X_y\n",
      "    X = check_array(X, accept_sparse=accept_sparse,\n",
      "  File \"/Users/miarodgers/opt/anaconda3/lib/python3.8/site-packages/sklearn/utils/validation.py\", line 72, in inner_f\n",
      "    return f(**kwargs)\n",
      "  File \"/Users/miarodgers/opt/anaconda3/lib/python3.8/site-packages/sklearn/utils/validation.py\", line 644, in check_array\n",
      "    _assert_all_finite(array,\n",
      "  File \"/Users/miarodgers/opt/anaconda3/lib/python3.8/site-packages/sklearn/utils/validation.py\", line 96, in _assert_all_finite\n",
      "    raise ValueError(\n",
      "ValueError: Input contains NaN, infinity or a value too large for dtype('float64').\n",
      "\n",
      "  warnings.warn(\"Estimator fit failed. The score on this train-test\"\n"
     ]
    }
   ],
   "source": [
    "from sklearn.discriminant_analysis import LinearDiscriminantAnalysis\n",
    "from sklearn.model_selection import KFold\n",
    "from sklearn.model_selection import cross_val_score\n",
    "\n",
    "df = pd.read_csv('./data/pima-indians-diabetes.csv', header=None)\n",
    "# mark zero values as missing or NaN\n",
    "df[[1,2,3,4,5]] = df[[1,2,3,4,5]].replace(0, np.NaN)\n",
    "\n",
    "# split dataset into inputs and outputs\n",
    "values = df.values\n",
    "X = values[:,0:8]\n",
    "y = values[:,8]\n",
    "\n",
    "# evaluate an LDA model on the dataset using k-fold cross validation\n",
    "model = LinearDiscriminantAnalysis()\n",
    "kfold = KFold(n_splits=3)\n",
    "\n",
    "result = cross_val_score(model, X, y, cv=kfold, scoring='accuracy')\n",
    "print(result.mean())"
   ]
  },
  {
   "cell_type": "markdown",
   "metadata": {},
   "source": [
    "Running the example results in an error, as follows:\n",
    "    \n",
    "This is as we expect.\n",
    "\n",
    "We are prevented from evaluating an LDA algorithm (and other algorithms) on the dataset with missing values.\n",
    "\n",
    "Now, we can look at methods to handle the missing values.\n"
   ]
  },
  {
   "cell_type": "markdown",
   "metadata": {},
   "source": [
    "### 4. Remove Rows With Missing Values\n",
    "\n",
    "The simplest strategy for handling missing data is to remove records that contain a missing value.\n",
    "\n",
    "We can do this by creating a new Pandas DataFrame with the rows containing missing values removed.\n",
    "\n",
    "Pandas provides the dropna() function that can be used to drop either columns or rows with missing data. We can use dropna() to remove all rows with missing data, as follows:"
   ]
  },
  {
   "cell_type": "code",
   "execution_count": 140,
   "metadata": {},
   "outputs": [
    {
     "name": "stdout",
     "output_type": "stream",
     "text": [
      "(392, 9)\n"
     ]
    }
   ],
   "source": [
    "dataset = pd.read_csv('./data/pima-indians-diabetes.csv', header=None)\n",
    "# mark zero values as missing or NaN\n",
    "df[[1,2,3,4,5]] = df[[1,2,3,4,5]].replace(0, np.NaN)\n",
    "\n",
    "# drop rows with missing values\n",
    "df.dropna(inplace=True)\n",
    "# summarize the number of rows and columns in the dataset\n",
    "print(df.shape)"
   ]
  },
  {
   "cell_type": "markdown",
   "metadata": {},
   "source": [
    "Running this example, we can see that the number of rows has been aggressively cut from 768 in the original dataset to 392 with all rows containing a NaN removed.\n",
    "\n",
    "We now have a dataset that we could use to evaluate an algorithm sensitive to missing values like LDA."
   ]
  },
  {
   "cell_type": "code",
   "execution_count": 141,
   "metadata": {},
   "outputs": [
    {
     "name": "stdout",
     "output_type": "stream",
     "text": [
      "0.7832648267762772\n"
     ]
    }
   ],
   "source": [
    "df = pd.read_csv('./data/pima-indians-diabetes.csv', header=None)\n",
    "# mark zero values as missing or NaN\n",
    "df[[1,2,3,4,5]] = df[[1,2,3,4,5]].replace(0, np.NaN)\n",
    "\n",
    "# drop rows with missing values\n",
    "df.dropna(inplace=True)\n",
    "# split dataset into inputs and outputs\n",
    "values = df.values\n",
    "X = values[:,0:8]\n",
    "y = values[:,8]\n",
    "# evaluate an LDA model on the dataset using k-fold cross validation\n",
    "model = LinearDiscriminantAnalysis()\n",
    "kfold = KFold(n_splits=3, random_state=7, shuffle=True)\n",
    "result = cross_val_score(model, X, y, cv=kfold, scoring='accuracy')\n",
    "print(result.mean())"
   ]
  },
  {
   "cell_type": "markdown",
   "metadata": {},
   "source": [
    "The example runs successfully and prints the accuracy of the model.\n",
    "\n",
    "Removing rows with missing values can be too limiting on some predictive modeling problems, an alternative is to impute missing values."
   ]
  },
  {
   "cell_type": "markdown",
   "metadata": {},
   "source": [
    "### 5. Impute Missing Values\n",
    "\n",
    "Imputing refers to using a model to replace missing values.\n",
    "\n",
    "There are many options we could consider when replacing a missing value, for example:\n",
    "\n",
    "- A constant value that has meaning within the domain, such as 0, distinct from all other values.\n",
    "\n",
    "- A value from another randomly selected record.\n",
    "\n",
    "- A mean, median or mode value for the column.\n",
    "\n",
    "- A value estimated by another predictive model.\n",
    "\n",
    "Any imputing performed on the training dataset will have to be performed on new data in the future when predictions are needed from the finalized model. This needs to be taken into consideration when choosing how to impute the missing values.\n",
    "\n",
    "- For example, if you choose to impute with mean column values, these mean column values will need to be stored to file for later use on new data that has missing values.\n",
    "\n",
    "Pandas provides the fillna() function for replacing missing values with a specific value.\n",
    "\n",
    "- For example, we can use fillna() to replace missing values with the mean value for each column, as follows:"
   ]
  },
  {
   "cell_type": "markdown",
   "metadata": {},
   "source": [
    "### Using Pandas"
   ]
  },
  {
   "cell_type": "code",
   "execution_count": 142,
   "metadata": {},
   "outputs": [
    {
     "name": "stdout",
     "output_type": "stream",
     "text": [
      "   0      1     2     3      4     5      6   7  8\n",
      "0  6  148.0  72.0  35.0    NaN  33.6  0.627  50  1\n",
      "1  1   85.0  66.0  29.0    NaN  26.6  0.351  31  0\n",
      "2  8  183.0  64.0   NaN    NaN  23.3  0.672  32  1\n",
      "3  1   89.0  66.0  23.0   94.0  28.1  0.167  21  0\n",
      "4  0  137.0  40.0  35.0  168.0  43.1  2.288  33  1\n",
      "   0      1     2         3           4     5      6   7  8\n",
      "0  6  148.0  72.0  35.00000  155.548223  33.6  0.627  50  1\n",
      "1  1   85.0  66.0  29.00000  155.548223  26.6  0.351  31  0\n",
      "2  8  183.0  64.0  29.15342  155.548223  23.3  0.672  32  1\n",
      "3  1   89.0  66.0  23.00000   94.000000  28.1  0.167  21  0\n",
      "4  0  137.0  40.0  35.00000  168.000000  43.1  2.288  33  1\n",
      "0    0\n",
      "1    0\n",
      "2    0\n",
      "3    0\n",
      "4    0\n",
      "5    0\n",
      "6    0\n",
      "7    0\n",
      "8    0\n",
      "dtype: int64\n"
     ]
    }
   ],
   "source": [
    "df = pd.read_csv('./data/pima-indians-diabetes.csv', header=None)\n",
    "\n",
    "# mark zero values as missing or NaN\n",
    "df[[1,2,3,4,5]] = df[[1,2,3,4,5]].replace(0, np.NaN)\n",
    "print(df.head(5))\n",
    "\n",
    "# fill missing values with mean column values\n",
    "df.fillna(df.mean(), inplace=True)\n",
    "# count the number of NaN values in each column\n",
    "\n",
    "print(df.head(5))\n",
    "\n",
    "print(df.isnull().sum())"
   ]
  },
  {
   "cell_type": "markdown",
   "metadata": {},
   "source": [
    "### Using Scikit-learn"
   ]
  },
  {
   "cell_type": "markdown",
   "metadata": {},
   "source": [
    "#### SimpleImputer\n",
    "\n",
    "The scikit-learn library provides the SimpleImputer() class that can be used to replace missing values.\n",
    "\n",
    "It is a flexible class that allows you to specify the value to replace (it can be something other than NaN) and the technique used to replace it (such as mean, median, or mode). The Imputer class operates directly on the NumPy array instead of the DataFrame.\n",
    "\n",
    "The example below uses the Imputer class to replace missing values with the mean of each column then prints the number of NaN values in the transformed matrix."
   ]
  },
  {
   "cell_type": "code",
   "execution_count": 143,
   "metadata": {},
   "outputs": [
    {
     "name": "stdout",
     "output_type": "stream",
     "text": [
      "0\n"
     ]
    }
   ],
   "source": [
    "from sklearn.impute import SimpleImputer\n",
    "\n",
    "df = pd.read_csv('./data/pima-indians-diabetes.csv', header=None)\n",
    "# mark zero values as missing or NaN\n",
    "df[[1,2,3,4,5]] = df[[1,2,3,4,5]].replace(0, np.NaN)\n",
    "\n",
    "# fill missing values with mean column values\n",
    "values = df.values\n",
    "imputer = SimpleImputer()\n",
    "transformed_values = imputer.fit_transform(values)\n",
    "\n",
    "# count the number of NaN values in each column\n",
    "print(np.isnan(transformed_values).sum())"
   ]
  },
  {
   "cell_type": "markdown",
   "metadata": {},
   "source": [
    "Running the example shows that all NaN values were imputed successfully.\n",
    "\n",
    "In either case, we can train algorithms sensitive to NaN values in the transformed dataset, such as LDA.\n",
    "\n",
    "The example below shows the LDA algorithm trained in the Imputer transformed dataset."
   ]
  },
  {
   "cell_type": "code",
   "execution_count": 144,
   "metadata": {},
   "outputs": [
    {
     "name": "stdout",
     "output_type": "stream",
     "text": [
      "0.765625\n"
     ]
    }
   ],
   "source": [
    "from sklearn.impute import SimpleImputer\n",
    "from sklearn.discriminant_analysis import LinearDiscriminantAnalysis\n",
    "from sklearn.model_selection import KFold\n",
    "from sklearn.model_selection import cross_val_score\n",
    "\n",
    "df = pd.read_csv('./data/pima-indians-diabetes.csv', header=None)\n",
    "# mark zero values as missing or NaN\n",
    "df[[1,2,3,4,5]] = df[[1,2,3,4,5]].replace(0, np.NaN)\n",
    "\n",
    "# split dataset into inputs and outputs\n",
    "values = df.values\n",
    "X = values[:,0:8]\n",
    "y = values[:,8]\n",
    "\n",
    "# fill missing values with mean column values\n",
    "imputer = SimpleImputer()\n",
    "transformed_X = imputer.fit_transform(X)\n",
    "\n",
    "# evaluate an LDA model on the dataset using k-fold cross validation\n",
    "model = LinearDiscriminantAnalysis()\n",
    "kfold = KFold(n_splits=3, random_state=7, shuffle=True)\n",
    "result = cross_val_score(model, transformed_X, y, cv=kfold, scoring='accuracy')\n",
    "print(result.mean())"
   ]
  },
  {
   "cell_type": "markdown",
   "metadata": {},
   "source": [
    "Running the example prints the accuracy of LDA on the transformed dataset.\n",
    "\n",
    "Try replacing the missing values with other values and see if you can lift the performance of the model.\n",
    "\n",
    "Maybe missing values have meaning in the data.\n",
    "\n",
    "Next we will look at using algorithms that treat missing values as just another value when modeling."
   ]
  },
  {
   "cell_type": "markdown",
   "metadata": {},
   "source": [
    "### 6. Algorithms that Support Missing Values\n",
    "\n",
    "Not all algorithms fail when there is missing data.\n",
    "\n",
    "There are algorithms that can be made robust to missing data, such as k-Nearest Neighbors that can ignore a column from a distance measure when a value is missing. There are also algorithms that can use the missing value as a unique and different value when building the predictive model, such as classification and regression trees. Sadly, the scikit-learn implementations of decision trees and k-Nearest Neighbors are not robust to missing values. Although it is being considered.\n",
    "\n",
    "Nevertheless, this remains as an option if you consider using another algorithm implementation (such as xgboost) or developing your own implementation."
   ]
  },
  {
   "cell_type": "markdown",
   "metadata": {},
   "source": [
    "### More details\n",
    "\n",
    "- See examples of handling missing data at Pandas: \n",
    "https://pandas.pydata.org/pandas-docs/stable/user_guide/missing_data.html\n",
    "\n",
    "- See also examples of imputating missing data at Scikit-learn:\n",
    "https://scikit-learn.org/stable/modules/impute.html#impute"
   ]
  },
  {
   "cell_type": "markdown",
   "metadata": {},
   "source": [
    "Reference:\n",
    "- Data clearning example with Pima Indians Diabetes dataset was created by Jason Brownlee and modified by Wan Bae. "
   ]
  },
  {
   "cell_type": "markdown",
   "metadata": {},
   "source": [
    "## ME2 Part 1\n",
    "\n",
    "Dataset: ./data/daily-temperatures.csv\n",
    "\n",
    "Daily minimum and maximum temperatures (in Celsius) in Melbourne, Australia, 1981-1990\n",
    "\n",
    "Source: Time Series Data Library (citing: Australian Bureau of Meteorology)\n",
    "\n",
    "\n",
    "This dataset has known missing values and also incorrect values\n",
    "\n",
    "- no value is reported so no value in some cells\n",
    "\n",
    "- invalid values for temperature: You can see some temprature values >= 200 and <= -800, which are invalid\n",
    "\n",
    "(1) First, you may want to plot the each max temperature and min temperature or both to check the ranges of the data. You may find something incorrect from the plot(s).\n",
    "\n",
    "(2) Discuss how you would handle these values: missing values and invalid values\n",
    "\n",
    "(3) Use tools (in Pandas and Scikit-learn) we talked about in the above examples to process data.\n",
    "\n",
    "(4) Visualize the data. "
   ]
  },
  {
   "cell_type": "code",
   "execution_count": 145,
   "metadata": {},
   "outputs": [],
   "source": [
    "import matplotlib.pyplot as plt\n",
    "plt.style.use('seaborn-darkgrid')"
   ]
  },
  {
   "cell_type": "code",
   "execution_count": 146,
   "metadata": {},
   "outputs": [
    {
     "name": "stdout",
     "output_type": "stream",
     "text": [
      "<class 'pandas.core.frame.DataFrame'>\n",
      "RangeIndex: 3650 entries, 0 to 3649\n",
      "Data columns (total 3 columns):\n",
      " #   Column           Non-Null Count  Dtype  \n",
      "---  ------           --------------  -----  \n",
      " 0   Date             3650 non-null   object \n",
      " 1   max_temperature  3643 non-null   object \n",
      " 2   min_temperature  3645 non-null   float64\n",
      "dtypes: float64(1), object(2)\n",
      "memory usage: 85.7+ KB\n",
      "None\n"
     ]
    }
   ],
   "source": [
    "df = pd.read_csv('./data/daily-temperatures.csv')\n",
    "print(df.info())"
   ]
  },
  {
   "cell_type": "code",
   "execution_count": 147,
   "metadata": {},
   "outputs": [
    {
     "name": "stdout",
     "output_type": "stream",
     "text": [
      "Date               0\n",
      "max_temperature    7\n",
      "min_temperature    5\n",
      "dtype: int64\n"
     ]
    }
   ],
   "source": [
    "print(df.isnull().sum())\n"
   ]
  },
  {
   "cell_type": "code",
   "execution_count": 148,
   "metadata": {},
   "outputs": [
    {
     "name": "stdout",
     "output_type": "stream",
     "text": [
      "       max_temperature  min_temperature\n",
      "count      3642.000000      3645.000000\n",
      "mean         21.212658         9.605569\n",
      "std          19.490728        35.749821\n",
      "min           7.000000      -800.000000\n",
      "25%          15.400000         8.300000\n",
      "50%          18.900000        11.000000\n",
      "75%          23.100000        13.900000\n",
      "max         300.000000        26.300000\n"
     ]
    }
   ],
   "source": [
    "df['max_temperature'] = pd.to_numeric(df['max_temperature'], errors='coerce')\n",
    "print(df.describe())\n"
   ]
  },
  {
   "cell_type": "code",
   "execution_count": 149,
   "metadata": {},
   "outputs": [
    {
     "name": "stdout",
     "output_type": "stream",
     "text": [
      "# of observations with max temp over 100:\n",
      " max_temperature\n",
      "300.0    16\n",
      "dtype: int64\n",
      "\n",
      "\n",
      "# of observations with min temp under -100:\n",
      " min_temperature\n",
      "-800.0    7\n",
      "dtype: int64\n"
     ]
    }
   ],
   "source": [
    "print(\"# of observations with max temp over 100:\\n\", df[df.max_temperature > 100].value_counts('max_temperature'))\n",
    "print(\"\\n\\n# of observations with min temp under -100:\\n\",df[df.min_temperature<-100].value_counts('min_temperature'))"
   ]
  },
  {
   "cell_type": "code",
   "execution_count": 150,
   "metadata": {},
   "outputs": [
    {
     "data": {
      "text/html": [
       "<div>\n",
       "<style scoped>\n",
       "    .dataframe tbody tr th:only-of-type {\n",
       "        vertical-align: middle;\n",
       "    }\n",
       "\n",
       "    .dataframe tbody tr th {\n",
       "        vertical-align: top;\n",
       "    }\n",
       "\n",
       "    .dataframe thead th {\n",
       "        text-align: right;\n",
       "    }\n",
       "</style>\n",
       "<table border=\"1\" class=\"dataframe\">\n",
       "  <thead>\n",
       "    <tr style=\"text-align: right;\">\n",
       "      <th></th>\n",
       "      <th>Date</th>\n",
       "      <th>max_temperature</th>\n",
       "      <th>min_temperature</th>\n",
       "    </tr>\n",
       "  </thead>\n",
       "  <tbody>\n",
       "    <tr>\n",
       "      <th>0</th>\n",
       "      <td>1/1/81</td>\n",
       "      <td>38.1</td>\n",
       "      <td>20.7</td>\n",
       "    </tr>\n",
       "    <tr>\n",
       "      <th>2</th>\n",
       "      <td>1/3/81</td>\n",
       "      <td>34.5</td>\n",
       "      <td>18.8</td>\n",
       "    </tr>\n",
       "    <tr>\n",
       "      <th>3</th>\n",
       "      <td>1/4/81</td>\n",
       "      <td>20.7</td>\n",
       "      <td>14.6</td>\n",
       "    </tr>\n",
       "    <tr>\n",
       "      <th>4</th>\n",
       "      <td>1/5/81</td>\n",
       "      <td>21.5</td>\n",
       "      <td>15.8</td>\n",
       "    </tr>\n",
       "    <tr>\n",
       "      <th>6</th>\n",
       "      <td>1/7/81</td>\n",
       "      <td>29.7</td>\n",
       "      <td>15.8</td>\n",
       "    </tr>\n",
       "    <tr>\n",
       "      <th>...</th>\n",
       "      <td>...</td>\n",
       "      <td>...</td>\n",
       "      <td>...</td>\n",
       "    </tr>\n",
       "    <tr>\n",
       "      <th>3645</th>\n",
       "      <td>12/27/90</td>\n",
       "      <td>37.6</td>\n",
       "      <td>14.0</td>\n",
       "    </tr>\n",
       "    <tr>\n",
       "      <th>3646</th>\n",
       "      <td>12/28/90</td>\n",
       "      <td>23.2</td>\n",
       "      <td>13.6</td>\n",
       "    </tr>\n",
       "    <tr>\n",
       "      <th>3647</th>\n",
       "      <td>12/29/90</td>\n",
       "      <td>25.1</td>\n",
       "      <td>13.5</td>\n",
       "    </tr>\n",
       "    <tr>\n",
       "      <th>3648</th>\n",
       "      <td>12/30/90</td>\n",
       "      <td>24.4</td>\n",
       "      <td>15.7</td>\n",
       "    </tr>\n",
       "    <tr>\n",
       "      <th>3649</th>\n",
       "      <td>12/31/90</td>\n",
       "      <td>24.6</td>\n",
       "      <td>13.0</td>\n",
       "    </tr>\n",
       "  </tbody>\n",
       "</table>\n",
       "<p>3615 rows × 3 columns</p>\n",
       "</div>"
      ],
      "text/plain": [
       "          Date  max_temperature  min_temperature\n",
       "0       1/1/81             38.1             20.7\n",
       "2       1/3/81             34.5             18.8\n",
       "3       1/4/81             20.7             14.6\n",
       "4       1/5/81             21.5             15.8\n",
       "6       1/7/81             29.7             15.8\n",
       "...        ...              ...              ...\n",
       "3645  12/27/90             37.6             14.0\n",
       "3646  12/28/90             23.2             13.6\n",
       "3647  12/29/90             25.1             13.5\n",
       "3648  12/30/90             24.4             15.7\n",
       "3649  12/31/90             24.6             13.0\n",
       "\n",
       "[3615 rows x 3 columns]"
      ]
     },
     "execution_count": 150,
     "metadata": {},
     "output_type": "execute_result"
    }
   ],
   "source": [
    "df = df[df.max_temperature < 100]\n",
    "df = df[df.min_temperature > -100]\n",
    "df"
   ]
  },
  {
   "cell_type": "code",
   "execution_count": 151,
   "metadata": {},
   "outputs": [
    {
     "data": {
      "image/png": "[encoded data removed]",
      "text/plain": [
       "<Figure size 432x288 with 1 Axes>"
      ]
     },
     "metadata": {},
     "output_type": "display_data"
    }
   ],
   "source": [
    "\n",
    "df['max_temperature'].plot(kind='hist', bins=30, alpha=0.5)\n",
    "df['min_temperature'].plot(kind='hist', bins=30, alpha=0.5)\n",
    "plt.legend()\n",
    "plt.show()"
   ]
  },
  {
   "cell_type": "code",
   "execution_count": 152,
   "metadata": {},
   "outputs": [],
   "source": [
    "dropped = df[df['max_temperature'].isin(df['max_temperature'].dropna())]\n",
    "mean_filled = df\n",
    "mean_filled.fillna(mean_filled.mean(), inplace=True)\n"
   ]
  },
  {
   "cell_type": "code",
   "execution_count": 153,
   "metadata": {},
   "outputs": [
    {
     "name": "stderr",
     "output_type": "stream",
     "text": [
      "No handles with labels found to put in legend.\n"
     ]
    },
    {
     "data": {
      "image/png": "[encoded data removed]",
      "text/plain": [
       "<Figure size 864x360 with 2 Axes>"
      ]
     },
     "metadata": {},
     "output_type": "display_data"
    }
   ],
   "source": [
    "fig, ((a1, a2)) = plt.subplots(1, 2, figsize=[12, 5])\n",
    "a1.hist(dropped['max_temperature'], alpha = 0.5, bins = 30)\n",
    "a1.hist(dropped['min_temperature'], alpha=0.5, bins=30)\n",
    "a2.hist(mean_filled['max_temperature'], alpha=0.5, bins=30)\n",
    "a2.hist(mean_filled['min_temperature'], alpha=0.5, bins=30)\n",
    "a1.set(title=\"Dropped\")\n",
    "a2.set(title=\"Mean Filled\")\n",
    "plt.legend()\n",
    "plt.show()"
   ]
  },
  {
   "cell_type": "markdown",
   "metadata": {},
   "source": [
    "### Part 2\n",
    "Write a summary of what your team has learned from this process. Submit your report to Canvas. "
   ]
  },
  {
   "cell_type": "code",
   "execution_count": null,
   "metadata": {},
   "outputs": [],
   "source": []
  }
 ],
 "metadata": {
  "kernelspec": {
   "display_name": "Python 3",
   "language": "python",
   "name": "python3"
  },
  "language_info": {
   "codemirror_mode": {
    "name": "ipython",
    "version": 3
   },
   "file_extension": ".py",
   "mimetype": "text/x-python",
   "name": "python",
   "nbconvert_exporter": "python",
   "pygments_lexer": "ipython3",
   "version": "3.8.5"
  }
 },
 "nbformat": 4,
 "nbformat_minor": 2
}
